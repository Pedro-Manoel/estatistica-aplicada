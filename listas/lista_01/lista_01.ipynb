{
  "cells": [
    {
      "cell_type": "raw",
      "metadata": {},
      "source": [
        "---\n",
        "title: \"lista 01 (Conceitos Básicos / Introdução à Estatística)\"\n",
        "---"
      ],
      "id": "b8e6dd16"
    },
    {
      "cell_type": "markdown",
      "metadata": {},
      "source": [
        "-   Pedro Manoel Herminio Alves - 119210706\n",
        "\n",
        "## Questão 01\n",
        "\n",
        "A distribuição de frequência é um arranjo de valores que uma ou mais variáveis tomam em uma amostra. Cada entrada na tabela contém a frequência ou a contagem de ocorrências de valores dentro de um grupo ou intervalo específico, e deste modo, a tabela resume a distribuição dos valores da amostra.\n",
        "\n",
        "Exemplo:\n",
        "\n",
        "Conjunto de idades:\n",
        "\n",
        "\n",
        "```{latex}\n",
        "\\begin{matrix} \n",
        "12 \\quad 14 \\quad 18 \\\\  \n",
        "14 \\quad 12 \\quad 18 \\\\  \n",
        "18 \\quad 20 \\quad 18 \\\\  \n",
        "17 \\quad 19 \\quad 20 \\\\\n",
        "20 \\quad 14 \\quad 19 \n",
        " \\end{matrix}\n",
        "```"
      ],
      "id": "5ba8bab3"
    }
  ],
  "metadata": {
    "kernelspec": {
      "display_name": "Python 3",
      "language": "python",
      "name": "python3"
    }
  },
  "nbformat": 4,
  "nbformat_minor": 5
}